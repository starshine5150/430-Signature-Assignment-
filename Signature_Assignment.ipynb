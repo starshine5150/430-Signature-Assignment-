{
  "nbformat": 4,
  "nbformat_minor": 0,
  "metadata": {
    "colab": {
      "provenance": [],
      "authorship_tag": "ABX9TyNXORZ0lC3DQzUakiPqnSW1",
      "include_colab_link": true
    },
    "kernelspec": {
      "name": "python3",
      "display_name": "Python 3"
    },
    "language_info": {
      "name": "python"
    }
  },
  "cells": [
    {
      "cell_type": "markdown",
      "metadata": {
        "id": "view-in-github",
        "colab_type": "text"
      },
      "source": [
        "<a href=\"https://colab.research.google.com/github/starshine5150/430-Signature-Assignment-/blob/main/Signature_Assignment.ipynb\" target=\"_parent\"><img src=\"https://colab.research.google.com/assets/colab-badge.svg\" alt=\"Open In Colab\"/></a>"
      ]
    },
    {
      "cell_type": "code",
      "source": [
        "!pip install Dash\n",
        "!pip install pyngrok\n",
        "!pip install ngrok"
      ],
      "metadata": {
        "id": "UOwr7gM0LGDa",
        "outputId": "2c27e19e-7ac6-4728-b91b-9aa7681d7060",
        "colab": {
          "base_uri": "https://localhost:8080/"
        }
      },
      "execution_count": 4,
      "outputs": [
        {
          "output_type": "stream",
          "name": "stdout",
          "text": [
            "Requirement already satisfied: Dash in /usr/local/lib/python3.11/dist-packages (3.0.4)\n",
            "Requirement already satisfied: Flask<3.1,>=1.0.4 in /usr/local/lib/python3.11/dist-packages (from Dash) (3.0.3)\n",
            "Requirement already satisfied: Werkzeug<3.1 in /usr/local/lib/python3.11/dist-packages (from Dash) (3.0.6)\n",
            "Requirement already satisfied: plotly>=5.0.0 in /usr/local/lib/python3.11/dist-packages (from Dash) (5.24.1)\n",
            "Requirement already satisfied: importlib-metadata in /usr/local/lib/python3.11/dist-packages (from Dash) (8.7.0)\n",
            "Requirement already satisfied: typing-extensions>=4.1.1 in /usr/local/lib/python3.11/dist-packages (from Dash) (4.13.2)\n",
            "Requirement already satisfied: requests in /usr/local/lib/python3.11/dist-packages (from Dash) (2.32.3)\n",
            "Requirement already satisfied: retrying in /usr/local/lib/python3.11/dist-packages (from Dash) (1.3.4)\n",
            "Requirement already satisfied: nest-asyncio in /usr/local/lib/python3.11/dist-packages (from Dash) (1.6.0)\n",
            "Requirement already satisfied: setuptools in /usr/local/lib/python3.11/dist-packages (from Dash) (75.2.0)\n",
            "Requirement already satisfied: Jinja2>=3.1.2 in /usr/local/lib/python3.11/dist-packages (from Flask<3.1,>=1.0.4->Dash) (3.1.6)\n",
            "Requirement already satisfied: itsdangerous>=2.1.2 in /usr/local/lib/python3.11/dist-packages (from Flask<3.1,>=1.0.4->Dash) (2.2.0)\n",
            "Requirement already satisfied: click>=8.1.3 in /usr/local/lib/python3.11/dist-packages (from Flask<3.1,>=1.0.4->Dash) (8.2.0)\n",
            "Requirement already satisfied: blinker>=1.6.2 in /usr/local/lib/python3.11/dist-packages (from Flask<3.1,>=1.0.4->Dash) (1.9.0)\n",
            "Requirement already satisfied: tenacity>=6.2.0 in /usr/local/lib/python3.11/dist-packages (from plotly>=5.0.0->Dash) (9.1.2)\n",
            "Requirement already satisfied: packaging in /usr/local/lib/python3.11/dist-packages (from plotly>=5.0.0->Dash) (24.2)\n",
            "Requirement already satisfied: MarkupSafe>=2.1.1 in /usr/local/lib/python3.11/dist-packages (from Werkzeug<3.1->Dash) (3.0.2)\n",
            "Requirement already satisfied: zipp>=3.20 in /usr/local/lib/python3.11/dist-packages (from importlib-metadata->Dash) (3.21.0)\n",
            "Requirement already satisfied: charset-normalizer<4,>=2 in /usr/local/lib/python3.11/dist-packages (from requests->Dash) (3.4.2)\n",
            "Requirement already satisfied: idna<4,>=2.5 in /usr/local/lib/python3.11/dist-packages (from requests->Dash) (3.10)\n",
            "Requirement already satisfied: urllib3<3,>=1.21.1 in /usr/local/lib/python3.11/dist-packages (from requests->Dash) (2.4.0)\n",
            "Requirement already satisfied: certifi>=2017.4.17 in /usr/local/lib/python3.11/dist-packages (from requests->Dash) (2025.4.26)\n",
            "Requirement already satisfied: six>=1.7.0 in /usr/local/lib/python3.11/dist-packages (from retrying->Dash) (1.17.0)\n",
            "Requirement already satisfied: pyngrok in /usr/local/lib/python3.11/dist-packages (7.2.8)\n",
            "Requirement already satisfied: PyYAML>=5.1 in /usr/local/lib/python3.11/dist-packages (from pyngrok) (6.0.2)\n",
            "Requirement already satisfied: ngrok in /usr/local/lib/python3.11/dist-packages (1.4.0)\n"
          ]
        }
      ]
    },
    {
      "cell_type": "code",
      "source": [
        "import dash\n",
        "from dash import dcc, html, Input, Output\n",
        "import plotly.express as px\n",
        "import pandas as pd\n",
        "import requests\n",
        "from datetime import datetime\n",
        "from pyngrok import ngrok\n",
        "\n",
        "# FRED API key (get yours from https://fred.stlouisfed.org/)\n",
        "FRED_API_KEY = '2f77223fcddf1574a696fbef78ad8cea'\n",
        "FRED_BASE_URL = 'https://api.stlouisfed.org/fred/series/observations'\n",
        "\n",
        "# Available metrics\n",
        "SERIES_DICT = {\n",
        "    'GDP': 'GDP',\n",
        "    'Unemployment Rate': 'UNRATE',\n",
        "    'Inflation (CPI)': 'CPIAUCSL'\n",
        "}\n",
        "\n",
        "# Function to fetch data from FRED\n",
        "def fetch_fred_data(series_id):\n",
        "    params = {\n",
        "        'series_id': series_id,\n",
        "        'api_key': FRED_API_KEY,\n",
        "        'file_type': 'json',\n",
        "        'observation_start': '2010-01-01'\n",
        "    }\n",
        "    response = requests.get(FRED_BASE_URL, params=params)\n",
        "    data = response.json()['observations']\n",
        "    df = pd.DataFrame(data)\n",
        "    df['date'] = pd.to_datetime(df['date'])\n",
        "    df['value'] = pd.to_numeric(df['value'], errors='coerce')\n",
        "    df = df.dropna()\n",
        "    return df\n",
        "\n",
        "# Dash app\n",
        "app = dash.Dash(__name__)\n",
        "\n",
        "# Layout\n",
        "app.layout = html.Div([\n",
        "    html.H2(\"U.S. Economic Indicators Dashboard\"),\n",
        "\n",
        "    html.Label(\"Select First Indicator:\"),\n",
        "    dcc.Dropdown(\n",
        "        id='indicator-1',\n",
        "        options=[{'label': k, 'value': v} for k, v in SERIES_DICT.items()],\n",
        "        value='GDP'\n",
        "    ),\n",
        "\n",
        "    html.Label(\"Select Second Indicator:\"),\n",
        "    dcc.Dropdown(\n",
        "        id='indicator-2',\n",
        "        options=[{'label': k, 'value': v} for k, v in SERIES_DICT.items()],\n",
        "        value='UNRATE'\n",
        "    ),\n",
        "\n",
        "    html.Label(\"Select Year Range:\"),\n",
        "    dcc.RangeSlider(\n",
        "        id='year-range',\n",
        "        min=2010,\n",
        "        max=datetime.now().year,\n",
        "        value=[2015, 2023],\n",
        "        marks={year: str(year) for year in range(2010, datetime.now().year + 1)},\n",
        "        step=1\n",
        "    ),\n",
        "\n",
        "    dcc.Graph(id='comparison-graph')\n",
        "])\n",
        "\n",
        "# Callback\n",
        "@app.callback(\n",
        "    Output('comparison-graph', 'figure'),\n",
        "    [Input('indicator-1', 'value'),\n",
        "     Input('indicator-2', 'value'),\n",
        "     Input('year-range', 'value')]\n",
        ")\n",
        "def update_graph(ind1, ind2, year_range):\n",
        "    df1 = fetch_fred_data(ind1)\n",
        "    df2 = fetch_fred_data(ind2)\n",
        "\n",
        "    df1 = df1[df1['date'].dt.year.between(year_range[0], year_range[1])]\n",
        "    df2 = df2[df2['date'].dt.year.between(year_range[0], year_range[1])]\n",
        "\n",
        "    fig = px.line()\n",
        "    fig.add_scatter(x=df1['date'], y=df1['value'], name=ind1)\n",
        "    fig.add_scatter(x=df2['date'], y=df2['value'], name=ind2)\n",
        "    fig.update_layout(title=\"Economic Indicators Comparison\",\n",
        "                      xaxis_title=\"Date\", yaxis_title=\"Value\")\n",
        "    return fig\n",
        "\n",
        "# Run app\n",
        "app.run(mode='inline')"
      ],
      "metadata": {
        "colab": {
          "base_uri": "https://localhost:8080/",
          "height": 671
        },
        "id": "V2k5yvIenDS8",
        "outputId": "20c9ade7-ea7d-4f4a-b7fe-25a84115f3b4"
      },
      "execution_count": 5,
      "outputs": [
        {
          "output_type": "display_data",
          "data": {
            "text/plain": [
              "<IPython.core.display.Javascript object>"
            ],
            "application/javascript": [
              "(async (port, path, width, height, cache, element) => {\n",
              "    if (!google.colab.kernel.accessAllowed && !cache) {\n",
              "      return;\n",
              "    }\n",
              "    element.appendChild(document.createTextNode(''));\n",
              "    const url = await google.colab.kernel.proxyPort(port, {cache});\n",
              "    const iframe = document.createElement('iframe');\n",
              "    iframe.src = new URL(path, url).toString();\n",
              "    iframe.height = height;\n",
              "    iframe.width = width;\n",
              "    iframe.style.border = 0;\n",
              "    iframe.allow = [\n",
              "        'accelerometer',\n",
              "        'autoplay',\n",
              "        'camera',\n",
              "        'clipboard-read',\n",
              "        'clipboard-write',\n",
              "        'gyroscope',\n",
              "        'magnetometer',\n",
              "        'microphone',\n",
              "        'serial',\n",
              "        'usb',\n",
              "        'xr-spatial-tracking',\n",
              "    ].join('; ');\n",
              "    element.appendChild(iframe);\n",
              "  })(8050, \"/\", \"100%\", 650, false, window.element)"
            ]
          },
          "metadata": {}
        }
      ]
    },
    {
      "cell_type": "code",
      "source": [
        "from pyngrok import ngrok\n",
        "\n",
        "# Paste your token below inside the quotes\n",
        "ngrok.set_auth_token(\"2xCPbicHWjw1a24DvseducVmIAM_7ohiWv9aiQUEjkzaQsct6\")\n",
        "# Start Dash on port 8050\n",
        "public_url = ngrok.connect(8050)\n",
        "print(\"Your app is live at:\", public_url)"
      ],
      "metadata": {
        "id": "k2adEtXSLabF",
        "outputId": "cba3995f-0130-45b1-a268-8ef5d1ecedef",
        "colab": {
          "base_uri": "https://localhost:8080/"
        }
      },
      "execution_count": 6,
      "outputs": [
        {
          "output_type": "stream",
          "name": "stdout",
          "text": [
            "Your app is live at: NgrokTunnel: \"https://ebb9-34-60-17-71.ngrok-free.app\" -> \"http://localhost:8050\"\n"
          ]
        }
      ]
    }
  ]
}