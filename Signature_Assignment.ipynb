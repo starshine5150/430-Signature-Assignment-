{
  "nbformat": 4,
  "nbformat_minor": 0,
  "metadata": {
    "colab": {
      "provenance": [],
      "authorship_tag": "ABX9TyPYJCjLmt5x43DHVr+T8zPW",
      "include_colab_link": true
    },
    "kernelspec": {
      "name": "python3",
      "display_name": "Python 3"
    },
    "language_info": {
      "name": "python"
    }
  },
  "cells": [
    {
      "cell_type": "markdown",
      "metadata": {
        "id": "view-in-github",
        "colab_type": "text"
      },
      "source": [
        "<a href=\"https://colab.research.google.com/github/starshine5150/430-Signature-Assignment-/blob/main/Signature_Assignment.ipynb\" target=\"_parent\"><img src=\"https://colab.research.google.com/assets/colab-badge.svg\" alt=\"Open In Colab\"/></a>"
      ]
    },
    {
      "cell_type": "code",
      "source": [
        "import dash\n",
        "from dash import dcc, html, Input, Output\n",
        "import plotly.express as px\n",
        "import pandas as pd\n",
        "import requests\n",
        "from datetime import datetime\n",
        "from pyngrok import ngrok\n",
        "\n",
        "# FRED API key (get yours from https://fred.stlouisfed.org/)\n",
        "FRED_API_KEY = '2f77223fcddf1574a696fbef78ad8cea'\n",
        "FRED_BASE_URL = 'https://api.stlouisfed.org/fred/series/observations'\n",
        "\n",
        "# Available metrics\n",
        "SERIES_DICT = {\n",
        "    'GDP': 'GDP',\n",
        "    'Unemployment Rate': 'UNRATE',\n",
        "    'Inflation (CPI)': 'CPIAUCSL'\n",
        "}\n",
        "\n",
        "# Function to fetch data from FRED\n",
        "def fetch_fred_data(series_id):\n",
        "    params = {\n",
        "        'series_id': series_id,\n",
        "        'api_key': FRED_API_KEY,\n",
        "        'file_type': 'json',\n",
        "        'observation_start': '2010-01-01'\n",
        "    }\n",
        "    response = requests.get(FRED_BASE_URL, params=params)\n",
        "    data = response.json()['observations']\n",
        "    df = pd.DataFrame(data)\n",
        "    df['date'] = pd.to_datetime(df['date'])\n",
        "    df['value'] = pd.to_numeric(df['value'], errors='coerce')\n",
        "    df = df.dropna()\n",
        "    return df\n",
        "\n",
        "# Initialize app\n",
        "app = JupyterDash(__name__)\n",
        "\n",
        "# Layout\n",
        "app.layout = html.Div([\n",
        "    html.H2(\"U.S. Economic Indicators Dashboard\"),\n",
        "\n",
        "    html.Label(\"Select First Indicator:\"),\n",
        "    dcc.Dropdown(\n",
        "        id='indicator-1',\n",
        "        options=[{'label': k, 'value': v} for k, v in SERIES_DICT.items()],\n",
        "        value='GDP'\n",
        "    ),\n",
        "\n",
        "    html.Label(\"Select Second Indicator:\"),\n",
        "    dcc.Dropdown(\n",
        "        id='indicator-2',\n",
        "        options=[{'label': k, 'value': v} for k, v in SERIES_DICT.items()],\n",
        "        value='UNRATE'\n",
        "    ),\n",
        "\n",
        "    html.Label(\"Select Year Range:\"),\n",
        "    dcc.RangeSlider(\n",
        "        id='year-range',\n",
        "        min=2010,\n",
        "        max=datetime.now().year,\n",
        "        value=[2015, 2023],\n",
        "        marks={year: str(year) for year in range(2010, datetime.now().year + 1)},\n",
        "        step=1\n",
        "    ),\n",
        "\n",
        "    dcc.Graph(id='comparison-graph')\n",
        "])\n",
        "\n",
        "# Callback\n",
        "@app.callback(\n",
        "    Output('comparison-graph', 'figure'),\n",
        "    [Input('indicator-1', 'value'),\n",
        "     Input('indicator-2', 'value'),\n",
        "     Input('year-range', 'value')]\n",
        ")\n",
        "def update_graph(ind1, ind2, year_range):\n",
        "    df1 = fetch_fred_data(ind1)\n",
        "    df2 = fetch_fred_data(ind2)\n",
        "\n",
        "    df1 = df1[df1['date'].dt.year.between(year_range[0], year_range[1])]\n",
        "    df2 = df2[df2['date'].dt.year.between(year_range[0], year_range[1])]\n",
        "\n",
        "    fig = px.line()\n",
        "    fig.add_scatter(x=df1['date'], y=df1['value'], name=ind1)\n",
        "    fig.add_scatter(x=df2['date'], y=df2['value'], name=ind2)\n",
        "    fig.update_layout(title=\"Economic Indicators Comparison\",\n",
        "                      xaxis_title=\"Date\", yaxis_title=\"Value\")\n",
        "    return fig\n",
        "\n",
        "# Run app\n",
        "app.run(mode='inline')"
      ],
      "metadata": {
        "colab": {
          "base_uri": "https://localhost:8080/",
          "height": 758
        },
        "id": "V2k5yvIenDS8",
        "outputId": "91bcd6ff-733c-4ce3-f372-e28a53fa4b0b"
      },
      "execution_count": null,
      "outputs": [
        {
          "output_type": "stream",
          "name": "stderr",
          "text": [
            "/usr/local/lib/python3.11/dist-packages/dash/dash.py:587: UserWarning:\n",
            "\n",
            "JupyterDash is deprecated, use Dash instead.\n",
            "See https://dash.plotly.com/dash-in-jupyter for more details.\n",
            "\n"
          ]
        },
        {
          "output_type": "display_data",
          "data": {
            "text/plain": [
              "<IPython.core.display.Javascript object>"
            ],
            "application/javascript": [
              "(async (port, path, width, height, cache, element) => {\n",
              "    if (!google.colab.kernel.accessAllowed && !cache) {\n",
              "      return;\n",
              "    }\n",
              "    element.appendChild(document.createTextNode(''));\n",
              "    const url = await google.colab.kernel.proxyPort(port, {cache});\n",
              "    const iframe = document.createElement('iframe');\n",
              "    iframe.src = new URL(path, url).toString();\n",
              "    iframe.height = height;\n",
              "    iframe.width = width;\n",
              "    iframe.style.border = 0;\n",
              "    iframe.allow = [\n",
              "        'accelerometer',\n",
              "        'autoplay',\n",
              "        'camera',\n",
              "        'clipboard-read',\n",
              "        'clipboard-write',\n",
              "        'gyroscope',\n",
              "        'magnetometer',\n",
              "        'microphone',\n",
              "        'serial',\n",
              "        'usb',\n",
              "        'xr-spatial-tracking',\n",
              "    ].join('; ');\n",
              "    element.appendChild(iframe);\n",
              "  })(8050, \"/\", \"100%\", 650, false, window.element)"
            ]
          },
          "metadata": {}
        }
      ]
    }
  ]
}